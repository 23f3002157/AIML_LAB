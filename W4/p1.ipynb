{
 "cells": [
  {
   "cell_type": "code",
   "execution_count": 3,
   "id": "785cf6f9",
   "metadata": {},
   "outputs": [],
   "source": [
    "from sklearn.datasets import fetch_california_housing\n",
    "from sklearn.model_selection import train_test_split\n",
    "from sklearn.preprocessing import StandardScaler\n",
    "from sklearn.linear_model import LinearRegression\n",
    "from sklearn.metrics import mean_squared_error, mean_absolute_error, r2_score\n",
    "import numpy as np\n",
    "import pandas as pd"
   ]
  },
  {
   "cell_type": "code",
   "execution_count": 6,
   "id": "45f43484",
   "metadata": {},
   "outputs": [
    {
     "name": "stdout",
     "output_type": "stream",
     "text": [
      "(20640, 9)\n"
     ]
    }
   ],
   "source": [
    "df = fetch_california_housing(as_frame=True).frame\n",
    "print(df.shape)"
   ]
  },
  {
   "cell_type": "code",
   "execution_count": 7,
   "id": "be4e8adb",
   "metadata": {},
   "outputs": [
    {
     "data": {
      "text/plain": [
       "<bound method NDFrame.describe of        MedInc  HouseAge  AveRooms  ...  Latitude  Longitude  MedHouseVal\n",
       "0      8.3252      41.0  6.984127  ...     37.88    -122.23        4.526\n",
       "1      8.3014      21.0  6.238137  ...     37.86    -122.22        3.585\n",
       "2      7.2574      52.0  8.288136  ...     37.85    -122.24        3.521\n",
       "3      5.6431      52.0  5.817352  ...     37.85    -122.25        3.413\n",
       "4      3.8462      52.0  6.281853  ...     37.85    -122.25        3.422\n",
       "...       ...       ...       ...  ...       ...        ...          ...\n",
       "20635  1.5603      25.0  5.045455  ...     39.48    -121.09        0.781\n",
       "20636  2.5568      18.0  6.114035  ...     39.49    -121.21        0.771\n",
       "20637  1.7000      17.0  5.205543  ...     39.43    -121.22        0.923\n",
       "20638  1.8672      18.0  5.329513  ...     39.43    -121.32        0.847\n",
       "20639  2.3886      16.0  5.254717  ...     39.37    -121.24        0.894\n",
       "\n",
       "[20640 rows x 9 columns]>"
      ]
     },
     "execution_count": 7,
     "metadata": {},
     "output_type": "execute_result"
    }
   ],
   "source": [
    "df.describe"
   ]
  }
 ],
 "metadata": {
  "kernelspec": {
   "display_name": "Python 3",
   "language": "python",
   "name": "python3"
  },
  "language_info": {
   "codemirror_mode": {
    "name": "ipython",
    "version": 3
   },
   "file_extension": ".py",
   "mimetype": "text/x-python",
   "name": "python",
   "nbconvert_exporter": "python",
   "pygments_lexer": "ipython3",
   "version": "3.12.8"
  }
 },
 "nbformat": 4,
 "nbformat_minor": 5
}
